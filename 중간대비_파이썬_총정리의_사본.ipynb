{
  "nbformat": 4,
  "nbformat_minor": 0,
  "metadata": {
    "colab": {
      "provenance": [],
      "include_colab_link": true
    },
    "kernelspec": {
      "name": "python3",
      "display_name": "Python 3"
    },
    "language_info": {
      "name": "python"
    }
  },
  "cells": [
    {
      "cell_type": "markdown",
      "metadata": {
        "id": "view-in-github",
        "colab_type": "text"
      },
      "source": [
        "<a href=\"https://colab.research.google.com/github/hyoje099/16-1Self-directed-education-curriculum-group-according-to-class-flexibility/blob/main/%EC%A4%91%EA%B0%84%EB%8C%80%EB%B9%84_%ED%8C%8C%EC%9D%B4%EC%8D%AC_%EC%B4%9D%EC%A0%95%EB%A6%AC%EC%9D%98_%EC%82%AC%EB%B3%B8.ipynb\" target=\"_parent\"><img src=\"https://colab.research.google.com/assets/colab-badge.svg\" alt=\"Open In Colab\"/></a>"
      ]
    },
    {
      "cell_type": "code",
      "execution_count": null,
      "metadata": {
        "id": "evI4-PS5yB6V",
        "colab": {
          "base_uri": "https://localhost:8080/"
        },
        "outputId": "0cae1dc7-e427-4678-b0bc-3c813ebb2a66"
      },
      "outputs": [
        {
          "output_type": "stream",
          "name": "stdout",
          "text": [
            "안녕하세요\n",
            "안녕하세요\n",
            "\"안녕하세요\"라고 말했습니다\n",
            "'배가 고픕니다'라고 생각했습니다\n"
          ]
        }
      ],
      "source": [
        "# 1\n",
        "print(\"안녕하세요\")\n",
        "print('안녕하세요')\n",
        "print('\"안녕하세요\"라고 말했습니다')\n",
        "print(\"'배가 고픕니다'라고 생각했습니다\")"
      ]
    },
    {
      "cell_type": "code",
      "source": [
        "# 2\n",
        "print(\"\"안녕하세요\"라고 말했습니다\")"
      ],
      "metadata": {
        "id": "kWqJC_KJyQEn",
        "colab": {
          "base_uri": "https://localhost:8080/",
          "height": 141
        },
        "outputId": "de0fd484-3eb3-4812-a383-ffc03fbb14fc"
      },
      "execution_count": null,
      "outputs": [
        {
          "output_type": "error",
          "ename": "SyntaxError",
          "evalue": "ignored",
          "traceback": [
            "\u001b[0;36m  File \u001b[0;32m\"<ipython-input-2-0bc0fb9913f2>\"\u001b[0;36m, line \u001b[0;32m2\u001b[0m\n\u001b[0;31m    print(\"\"안녕하세요\"라고 말했습니다\")\u001b[0m\n\u001b[0m            ^\u001b[0m\n\u001b[0;31mSyntaxError\u001b[0m\u001b[0;31m:\u001b[0m invalid syntax\n"
          ]
        }
      ]
    },
    {
      "cell_type": "code",
      "source": [
        "# 3\n",
        "print(\"\\\"안녕하세요\\\"라고 말했습니다\")\n",
        "print('\\'배가 고픕니다\\'라고 생각했습니다')"
      ],
      "metadata": {
        "id": "OnIkpfLUyVQr"
      },
      "execution_count": null,
      "outputs": []
    },
    {
      "cell_type": "code",
      "source": [
        "# 4\n",
        "print('학교\\t 학년\\t 번호')\n",
        "print('성신고\\t 1학년\\t 23번')\n",
        "print('약사고\\t 1학년\\t 11번')\n",
        "print('울산고\\t 2학년\\t 7번')"
      ],
      "metadata": {
        "id": "XRsOEjOAyZcd"
      },
      "execution_count": null,
      "outputs": []
    },
    {
      "cell_type": "code",
      "source": [
        "# 5\n",
        "print(\"\"\"\n",
        "동해물과 백두산이 마르고 닳도록\n",
        "하느님이 보우하사 우리 나라 만세\n",
        "무궁화 삼천리 화려 강산\n",
        "대한사람 대한으로 길이 보전하세\n",
        "\"\"\")"
      ],
      "metadata": {
        "id": "DMCvRFjxyd1M"
      },
      "execution_count": null,
      "outputs": []
    },
    {
      "cell_type": "code",
      "source": [
        "# 6\n",
        "print(\"I'm fine\")\n",
        "print('I\\'m fine')"
      ],
      "metadata": {
        "id": "Rzis_7QEyhd-"
      },
      "execution_count": null,
      "outputs": []
    },
    {
      "cell_type": "code",
      "source": [
        "# 7\n",
        "print(\"안녕\"+\"하세요\")\n",
        "print(\"잘생김 \"*3)"
      ],
      "metadata": {
        "id": "2SP7I2l4yszK"
      },
      "execution_count": null,
      "outputs": []
    },
    {
      "cell_type": "code",
      "source": [
        "# 8\n",
        "print(\"안녕\"+1)"
      ],
      "metadata": {
        "id": "S4MrionJy2pv"
      },
      "execution_count": null,
      "outputs": []
    },
    {
      "cell_type": "code",
      "source": [
        "# 9\n",
        "print(\"안녕하세요\"[0])\n",
        "print(\"안녕하세요\"[1])\n",
        "print(\"안녕하세요\"[2])\n",
        "print(\"안녕하세요\"[3])\n",
        "print(\"안녕하세요\"[4])\n"
      ],
      "metadata": {
        "id": "HjA0eVz4y6Wg"
      },
      "execution_count": null,
      "outputs": []
    },
    {
      "cell_type": "code",
      "source": [
        "# 10\n",
        "print(\"안녕하세요\"[-1])\n",
        "print(\"안녕하세요\"[-2])\n",
        "print(\"안녕하세요\"[-3])\n",
        "print(\"안녕하세요\"[-4])\n",
        "print(\"안녕하세요\"[-5])"
      ],
      "metadata": {
        "id": "b95QKZ3Cy_6Z"
      },
      "execution_count": null,
      "outputs": []
    },
    {
      "cell_type": "code",
      "source": [
        "# 11\n",
        "print(\"안녕하세요\"[0:2])\n",
        "print(\"안녕하세요\"[1:3])\n",
        "print(\"안녕하세요\"[2:4])\n",
        "print(\"안녕하세요\"[1:])\n",
        "print(\"안녕하세요\"[:3])\n",
        "print(\"안녕하세요\"[:])"
      ],
      "metadata": {
        "id": "H8TW9GGUzCFB",
        "colab": {
          "base_uri": "https://localhost:8080/"
        },
        "outputId": "8344547e-e95c-468a-cb91-d04b5c50e6cd"
      },
      "execution_count": null,
      "outputs": [
        {
          "output_type": "stream",
          "name": "stdout",
          "text": [
            "안녕\n",
            "녕하\n",
            "하세\n",
            "녕하세요\n",
            "안녕하\n",
            "안녕하세요\n"
          ]
        }
      ]
    },
    {
      "cell_type": "code",
      "source": [
        "# 12\n",
        "print(\"안녕하세요\"[5])"
      ],
      "metadata": {
        "id": "nfQQmeqlzF-f",
        "colab": {
          "base_uri": "https://localhost:8080/",
          "height": 199
        },
        "outputId": "7b20b686-d43b-4d5d-bec1-66f2442d4376"
      },
      "execution_count": null,
      "outputs": [
        {
          "output_type": "error",
          "ename": "IndexError",
          "evalue": "ignored",
          "traceback": [
            "\u001b[0;31m---------------------------------------------------------------------------\u001b[0m",
            "\u001b[0;31mIndexError\u001b[0m                                Traceback (most recent call last)",
            "\u001b[0;32m<ipython-input-4-ca39068637df>\u001b[0m in \u001b[0;36m<cell line: 2>\u001b[0;34m()\u001b[0m\n\u001b[1;32m      1\u001b[0m \u001b[0;31m# 12\u001b[0m\u001b[0;34m\u001b[0m\u001b[0;34m\u001b[0m\u001b[0m\n\u001b[0;32m----> 2\u001b[0;31m \u001b[0mprint\u001b[0m\u001b[0;34m(\u001b[0m\u001b[0;34m\"안녕하세요\"\u001b[0m\u001b[0;34m[\u001b[0m\u001b[0;36m5\u001b[0m\u001b[0;34m]\u001b[0m\u001b[0;34m)\u001b[0m\u001b[0;34m\u001b[0m\u001b[0;34m\u001b[0m\u001b[0m\n\u001b[0m",
            "\u001b[0;31mIndexError\u001b[0m: string index out of range"
          ]
        }
      ]
    },
    {
      "cell_type": "code",
      "source": [
        "# 13\n",
        "print(\"대한민국만세\"[5])\n",
        "print(\"대한민국만세\"[-1])"
      ],
      "metadata": {
        "id": "Hzsi8diYzLrn",
        "colab": {
          "base_uri": "https://localhost:8080/"
        },
        "outputId": "547a62b4-a0be-46be-adc4-4c465b4f7f96"
      },
      "execution_count": null,
      "outputs": [
        {
          "output_type": "stream",
          "name": "stdout",
          "text": [
            "세\n",
            "세\n"
          ]
        }
      ]
    },
    {
      "cell_type": "code",
      "source": [
        "# 14\n",
        "print(len(\"안녕하세요\"))\n",
        "print(type(\"안녕하세요\"))"
      ],
      "metadata": {
        "id": "rxinV46RzYJF",
        "colab": {
          "base_uri": "https://localhost:8080/"
        },
        "outputId": "c2926a6b-d137-420a-d031-5cc84f45762a"
      },
      "execution_count": null,
      "outputs": [
        {
          "output_type": "stream",
          "name": "stdout",
          "text": [
            "5\n",
            "<class 'str'>\n"
          ]
        }
      ]
    },
    {
      "cell_type": "code",
      "source": [
        "# 15\n",
        "print(123)\n",
        "print(type(123))\n",
        "print(3.14)\n",
        "print(type(3.14))"
      ],
      "metadata": {
        "id": "QxibpeEUzkd4",
        "colab": {
          "base_uri": "https://localhost:8080/"
        },
        "outputId": "c9b55ae1-3745-4e11-915a-94782803b9be"
      },
      "execution_count": null,
      "outputs": [
        {
          "output_type": "stream",
          "name": "stdout",
          "text": [
            "123\n",
            "<class 'int'>\n",
            "3.14\n",
            "<class 'float'>\n"
          ]
        }
      ]
    },
    {
      "cell_type": "code",
      "source": [
        "# 16\n",
        "print(2)\n",
        "print(type(2))\n",
        "print(2.0)\n",
        "print(type(2.0))\n",
        "print('2')\n",
        "print(type('2'))"
      ],
      "metadata": {
        "id": "wzKHxzzVznTW",
        "colab": {
          "base_uri": "https://localhost:8080/"
        },
        "outputId": "7b62b573-658a-4f0d-b13c-4713c4c4f018"
      },
      "execution_count": null,
      "outputs": [
        {
          "output_type": "stream",
          "name": "stdout",
          "text": [
            "2\n",
            "<class 'int'>\n",
            "2.0\n",
            "<class 'float'>\n",
            "2\n",
            "<class 'str'>\n"
          ]
        }
      ]
    },
    {
      "cell_type": "code",
      "source": [
        "# 17\n",
        "print(\"2 + 3 =\", 2+3)\n",
        "print(\"2 - 3 =\", 2-3)\n",
        "print(\"2 * 3 =\", 2*3)\n",
        "print(\"2 / 3 =\", 2/3)"
      ],
      "metadata": {
        "id": "IGu1rr3pzqlP",
        "colab": {
          "base_uri": "https://localhost:8080/"
        },
        "outputId": "adf42cea-8941-4101-d75d-17448be23647"
      },
      "execution_count": null,
      "outputs": [
        {
          "output_type": "stream",
          "name": "stdout",
          "text": [
            "2 + 3 = 5\n",
            "2 - 3 = -1\n",
            "2 * 3 = 6\n",
            "2 / 3 = 0.6666666666666666\n"
          ]
        }
      ]
    },
    {
      "cell_type": "code",
      "source": [
        "# 18\n",
        "print((2+3)/4*2)"
      ],
      "metadata": {
        "id": "gSlfgUvczwzX",
        "colab": {
          "base_uri": "https://localhost:8080/"
        },
        "outputId": "b7afe02c-584e-439d-e536-3fe266a1d0a4"
      },
      "execution_count": null,
      "outputs": [
        {
          "output_type": "stream",
          "name": "stdout",
          "text": [
            "2.5\n"
          ]
        }
      ]
    },
    {
      "cell_type": "code",
      "source": [
        "# 19\n",
        "print(\"7 // 3 =\", 7//3)\n",
        "print(\"7 % 3 =\", 7%3)\n",
        "print(\"3 ** 2 =\", 3**2)\n",
        "print(\"2 ** 3 =\", 2**3)"
      ],
      "metadata": {
        "id": "-Uf8CRJOz3nE",
        "colab": {
          "base_uri": "https://localhost:8080/"
        },
        "outputId": "076ae08a-2697-47ea-a286-f44abf3a1f27"
      },
      "execution_count": null,
      "outputs": [
        {
          "output_type": "stream",
          "name": "stdout",
          "text": [
            "7 // 3 = 2\n",
            "7 % 3 = 1\n",
            "3 ** 2 = 9\n",
            "2 ** 3 = 8\n"
          ]
        }
      ]
    },
    {
      "cell_type": "code",
      "source": [
        "# 20\n",
        "print(5 + 3 * 2)\n",
        "print(2 + 2 - 2 * 2 / 2 * 2)\n",
        "print(2 - 2 + 2 / 2 * 2 + 2)"
      ],
      "metadata": {
        "id": "L_qieU-7z71h",
        "colab": {
          "base_uri": "https://localhost:8080/"
        },
        "outputId": "50a9075d-029b-4c2e-b68e-d63e4c88b41a"
      },
      "execution_count": null,
      "outputs": [
        {
          "output_type": "stream",
          "name": "stdout",
          "text": [
            "11\n",
            "0.0\n",
            "4.0\n"
          ]
        }
      ]
    },
    {
      "cell_type": "code",
      "source": [
        "# 21\n",
        "print(\"원의 둘레:\",5*2*3.14)\n",
        "print(\"원의 넓이:\",5*5*3.14)\n",
        "print(\"구의 겉넓이:\",4*3.14*5**2)\n",
        "print(\"구의 부피:\",(4/3)*3.14*5**3)"
      ],
      "metadata": {
        "id": "85hGC7gX0AUB",
        "colab": {
          "base_uri": "https://localhost:8080/"
        },
        "outputId": "0a9eee34-530d-4a05-ad92-f5ffd89da4c7"
      },
      "execution_count": null,
      "outputs": [
        {
          "output_type": "stream",
          "name": "stdout",
          "text": [
            "원의 둘레: 31.400000000000002\n",
            "원의 넓이: 78.5\n",
            "구의 겉넓이: 314.0\n",
            "구의 부피: 523.3333333333334\n"
          ]
        }
      ]
    },
    {
      "cell_type": "code",
      "source": [
        "# 22\n",
        "pi = 3.14\n",
        "r = 5\n",
        "print(\"원의 둘레:\",r*2*pi)\n",
        "print(\"원의 넓이:\",r*r*pi)\n",
        "print(\"구의 겉넓이:\",4*pi*r**2)\n",
        "print(\"구의 부피:\",(4/3)*pi*r**3)"
      ],
      "metadata": {
        "id": "urwDpgYx0FyG",
        "colab": {
          "base_uri": "https://localhost:8080/"
        },
        "outputId": "f757d1ff-8c8a-4500-c3bf-fc37f07ba4d8"
      },
      "execution_count": null,
      "outputs": [
        {
          "output_type": "stream",
          "name": "stdout",
          "text": [
            "원의 둘레: 31.400000000000002\n",
            "원의 넓이: 78.5\n",
            "구의 겉넓이: 314.0\n",
            "구의 부피: 523.3333333333334\n"
          ]
        }
      ]
    },
    {
      "cell_type": "code",
      "source": [
        "# 23\n",
        "age = input(\"나이를 입력하세요: \")\n",
        "print(\"당신나이는\",age)"
      ],
      "metadata": {
        "id": "vCoHVMDL0KkK",
        "colab": {
          "base_uri": "https://localhost:8080/"
        },
        "outputId": "9c9dbfa6-8a88-432f-9ecb-b7553bf362a0"
      },
      "execution_count": null,
      "outputs": [
        {
          "output_type": "stream",
          "name": "stdout",
          "text": [
            "나이를 입력하세요: 8\n",
            "당신나이는 8\n"
          ]
        }
      ]
    },
    {
      "cell_type": "code",
      "source": [
        " # 24\n",
        "age = input(\"나이를 입력하세요: \")\n",
        "print(\"10년 후 당신나이는\",age+10)"
      ],
      "metadata": {
        "id": "wCsNve7z0QMM",
        "colab": {
          "base_uri": "https://localhost:8080/",
          "height": 377
        },
        "outputId": "636d6b0d-0298-411e-bdbb-9c0550167560"
      },
      "execution_count": null,
      "outputs": [
        {
          "output_type": "error",
          "ename": "KeyboardInterrupt",
          "evalue": "ignored",
          "traceback": [
            "\u001b[0;31m---------------------------------------------------------------------------\u001b[0m",
            "\u001b[0;31mKeyboardInterrupt\u001b[0m                         Traceback (most recent call last)",
            "\u001b[0;32m<ipython-input-20-d3ccd51b0e7f>\u001b[0m in \u001b[0;36m<cell line: 2>\u001b[0;34m()\u001b[0m\n\u001b[1;32m      1\u001b[0m \u001b[0;31m# 24\u001b[0m\u001b[0;34m\u001b[0m\u001b[0;34m\u001b[0m\u001b[0m\n\u001b[0;32m----> 2\u001b[0;31m \u001b[0mage\u001b[0m \u001b[0;34m=\u001b[0m \u001b[0minput\u001b[0m\u001b[0;34m(\u001b[0m\u001b[0;34m\"나이를 입력하세요: \"\u001b[0m\u001b[0;34m)\u001b[0m\u001b[0;34m\u001b[0m\u001b[0;34m\u001b[0m\u001b[0m\n\u001b[0m\u001b[1;32m      3\u001b[0m \u001b[0mprint\u001b[0m\u001b[0;34m(\u001b[0m\u001b[0;34m\"10년 후 당신나이는\"\u001b[0m\u001b[0;34m,\u001b[0m\u001b[0mage\u001b[0m\u001b[0;34m+\u001b[0m\u001b[0;36m10\u001b[0m\u001b[0;34m)\u001b[0m\u001b[0;34m\u001b[0m\u001b[0;34m\u001b[0m\u001b[0m\n",
            "\u001b[0;32m/usr/local/lib/python3.9/dist-packages/ipykernel/kernelbase.py\u001b[0m in \u001b[0;36mraw_input\u001b[0;34m(self, prompt)\u001b[0m\n\u001b[1;32m    849\u001b[0m                 \u001b[0;34m\"raw_input was called, but this frontend does not support input requests.\"\u001b[0m\u001b[0;34m\u001b[0m\u001b[0;34m\u001b[0m\u001b[0m\n\u001b[1;32m    850\u001b[0m             )\n\u001b[0;32m--> 851\u001b[0;31m         return self._input_request(str(prompt),\n\u001b[0m\u001b[1;32m    852\u001b[0m             \u001b[0mself\u001b[0m\u001b[0;34m.\u001b[0m\u001b[0m_parent_ident\u001b[0m\u001b[0;34m,\u001b[0m\u001b[0;34m\u001b[0m\u001b[0;34m\u001b[0m\u001b[0m\n\u001b[1;32m    853\u001b[0m             \u001b[0mself\u001b[0m\u001b[0;34m.\u001b[0m\u001b[0m_parent_header\u001b[0m\u001b[0;34m,\u001b[0m\u001b[0;34m\u001b[0m\u001b[0;34m\u001b[0m\u001b[0m\n",
            "\u001b[0;32m/usr/local/lib/python3.9/dist-packages/ipykernel/kernelbase.py\u001b[0m in \u001b[0;36m_input_request\u001b[0;34m(self, prompt, ident, parent, password)\u001b[0m\n\u001b[1;32m    893\u001b[0m             \u001b[0;32mexcept\u001b[0m \u001b[0mKeyboardInterrupt\u001b[0m\u001b[0;34m:\u001b[0m\u001b[0;34m\u001b[0m\u001b[0;34m\u001b[0m\u001b[0m\n\u001b[1;32m    894\u001b[0m                 \u001b[0;31m# re-raise KeyboardInterrupt, to truncate traceback\u001b[0m\u001b[0;34m\u001b[0m\u001b[0;34m\u001b[0m\u001b[0m\n\u001b[0;32m--> 895\u001b[0;31m                 \u001b[0;32mraise\u001b[0m \u001b[0mKeyboardInterrupt\u001b[0m\u001b[0;34m(\u001b[0m\u001b[0;34m\"Interrupted by user\"\u001b[0m\u001b[0;34m)\u001b[0m \u001b[0;32mfrom\u001b[0m \u001b[0;32mNone\u001b[0m\u001b[0;34m\u001b[0m\u001b[0;34m\u001b[0m\u001b[0m\n\u001b[0m\u001b[1;32m    896\u001b[0m             \u001b[0;32mexcept\u001b[0m \u001b[0mException\u001b[0m \u001b[0;32mas\u001b[0m \u001b[0me\u001b[0m\u001b[0;34m:\u001b[0m\u001b[0;34m\u001b[0m\u001b[0;34m\u001b[0m\u001b[0m\n\u001b[1;32m    897\u001b[0m                 \u001b[0mself\u001b[0m\u001b[0;34m.\u001b[0m\u001b[0mlog\u001b[0m\u001b[0;34m.\u001b[0m\u001b[0mwarning\u001b[0m\u001b[0;34m(\u001b[0m\u001b[0;34m\"Invalid Message:\"\u001b[0m\u001b[0;34m,\u001b[0m \u001b[0mexc_info\u001b[0m\u001b[0;34m=\u001b[0m\u001b[0;32mTrue\u001b[0m\u001b[0;34m)\u001b[0m\u001b[0;34m\u001b[0m\u001b[0;34m\u001b[0m\u001b[0m\n",
            "\u001b[0;31mKeyboardInterrupt\u001b[0m: Interrupted by user"
          ]
        }
      ]
    },
    {
      "cell_type": "code",
      "source": [
        "# 25\n",
        "age = '16'\n",
        "n = int(age)\n",
        "m = float(age)\n",
        "\n",
        "print(type(age), type(n), type(m))"
      ],
      "metadata": {
        "id": "x4SzjoSv0YVg"
      },
      "execution_count": null,
      "outputs": []
    },
    {
      "cell_type": "code",
      "source": [
        "# 26\n",
        "age = input(\"나이를 입력하세요: \")\n",
        "print(\"10년 후 당신나이는\",int(age)+10)"
      ],
      "metadata": {
        "id": "6osgcWFc05wU"
      },
      "execution_count": null,
      "outputs": []
    },
    {
      "cell_type": "code",
      "source": [
        "# 27\n",
        "kor = 90\n",
        "eng = 80\n",
        "mat = 85\n",
        "print(\"세과목 평균은\",(kor+eng+mat)/3)"
      ],
      "metadata": {
        "id": "swGAn6-o1DFA"
      },
      "execution_count": null,
      "outputs": []
    },
    {
      "cell_type": "code",
      "source": [
        "# 28\n",
        "g = input(\"학년을 입력하세요: \")\n",
        "c = input(\"반을 입력하세요: \")\n",
        "n = input(\"번호 두자리를 입력하세요: \")\n",
        "\n",
        "print(\"당신의 학번은\",g+\"0\"+c+n)"
      ],
      "metadata": {
        "id": "W5PqtcmL1pPZ"
      },
      "execution_count": null,
      "outputs": []
    },
    {
      "cell_type": "code",
      "source": [
        "# 29\n",
        "x = input(\"정수 입력: \")\n",
        "\n",
        "print(int(x))"
      ],
      "metadata": {
        "id": "BjOGTehO2A5i"
      },
      "execution_count": null,
      "outputs": []
    },
    {
      "cell_type": "code",
      "source": [
        "# 30\n",
        "x = input(\"실수 입력: \")\n",
        "\n",
        "print(int(x))"
      ],
      "metadata": {
        "id": "8f20qfxs2fXM"
      },
      "execution_count": null,
      "outputs": []
    },
    {
      "cell_type": "code",
      "source": [
        "# 31\n",
        "x = input(\"문자 입력: \")\n",
        "\n",
        "print(int(x))"
      ],
      "metadata": {
        "id": "orqrXRdq2kKG"
      },
      "execution_count": null,
      "outputs": []
    },
    {
      "cell_type": "code",
      "source": [
        "# 32\n",
        "num = 123\n",
        "s_num = str(num)\n",
        "\n",
        "print(num, s_num)\n",
        "print(type(num), type(s_num))\n",
        "print(len(s_num))"
      ],
      "metadata": {
        "id": "MxOtifYc2qQh"
      },
      "execution_count": null,
      "outputs": []
    },
    {
      "cell_type": "code",
      "source": [
        "# 33\n",
        "words = 'Korea Team Cheer up'\n",
        "print(words.upper())\n",
        "print(words.lower())"
      ],
      "metadata": {
        "id": "PQ7e2KgD2tbY"
      },
      "execution_count": null,
      "outputs": []
    },
    {
      "cell_type": "code",
      "source": [
        "# 34\n",
        "print('안녕' in '안녕하세요')\n",
        "print('잘자' in '안녕하세요')\n",
        "print('2' in '02468')"
      ],
      "metadata": {
        "id": "q4uwlm5A2x9V"
      },
      "execution_count": null,
      "outputs": []
    },
    {
      "cell_type": "code",
      "source": [
        "# 35\n",
        "data = input(\"정수를 입력하세요: \")\n",
        "print(\"당신이 입력한 정수는\",len(data),\"자리수입니다.\")"
      ],
      "metadata": {
        "id": "jCRbHF8x29Fv"
      },
      "execution_count": null,
      "outputs": []
    },
    {
      "cell_type": "code",
      "source": [
        "# 36\n",
        "data1 = input(\"첫번째 정수 입력: \")\n",
        "data2 = input(\"두번째 정수 입력: \")\n",
        "data3 = int(data1)+int(data2)\n",
        "print(\"두 정수의 합은\",data3)\n",
        "print(\"data1의 자료형은\",type(data1),\"data3의 자료형은\",type(data3))"
      ],
      "metadata": {
        "id": "8GR-rwOT3ReK"
      },
      "execution_count": null,
      "outputs": []
    },
    {
      "cell_type": "code",
      "source": [
        "# 37\n",
        "\n",
        "a = 5\n",
        "\n",
        "print(a >= 6) # a가 6보다 크거나 같다\n",
        "print(a < 6)  # a가 6보다 작다\n",
        "print(a == 6) # a가 6과 같다\n",
        "print(a != 6) # a가 6과 다르다\n",
        "print(a == 5) # a가 5와 같다"
      ],
      "metadata": {
        "id": "Pen4Ebd93qE8"
      },
      "execution_count": null,
      "outputs": []
    },
    {
      "cell_type": "code",
      "source": [
        "# 38\n",
        "su = input('정수 입력: ')\n",
        "su = int(su)\n",
        "\n",
        "if su > 0:\n",
        "  print('양수입니다')"
      ],
      "metadata": {
        "id": "MnOX1yl-3sEH"
      },
      "execution_count": null,
      "outputs": []
    },
    {
      "cell_type": "code",
      "source": [
        "# 39\n",
        "su = input('정수 입력: ')\n",
        "su = int(su)\n",
        "\n",
        "if su == 7:\n",
        "  print('축하합니다')\n",
        "  print('당첨입니다')"
      ],
      "metadata": {
        "id": "ZJRp-e0P3w2p"
      },
      "execution_count": null,
      "outputs": []
    },
    {
      "cell_type": "code",
      "source": [
        "# 40\n",
        "k = input('점수 입력: ')\n",
        "k = int(k)\n",
        "\n",
        "if k >= 90:\n",
        "  print('A 입니다')\n",
        "else:\n",
        "  print('A가 아닙니다')"
      ],
      "metadata": {
        "id": "G4xTZCXo4D81"
      },
      "execution_count": null,
      "outputs": []
    },
    {
      "cell_type": "code",
      "source": [
        "# 41\n",
        "value = input('정수입력: ')\n",
        "\n",
        "if value[-1] in \"02468\":\n",
        "  print('짝수입니다')\n",
        "else:\n",
        "  print('홀수입니다')"
      ],
      "metadata": {
        "id": "_yRqyHys4p0_"
      },
      "execution_count": null,
      "outputs": []
    },
    {
      "cell_type": "code",
      "source": [
        "# 42\n",
        "x = input(\"정수입력: \")\n",
        "x = int(x)\n",
        "\n",
        "if x > 0:\n",
        "  print('양수')\n",
        "elif x < 0:\n",
        "  print('음수')\n",
        "else:\n",
        "  print('양수도 음수도 아님')"
      ],
      "metadata": {
        "id": "sWACSYhG455Q"
      },
      "execution_count": null,
      "outputs": []
    },
    {
      "cell_type": "code",
      "source": [
        "# 43\n",
        "score = input('점수 입력(0~100): ')\n",
        "score = int(score)\n",
        "\n",
        "if score >= 90:\n",
        "  print('A')\n",
        "elif score >= 80:\n",
        "  print('B')\n",
        "elif score >= 70:\n",
        "  print('C')\n",
        "else:\n",
        "  print('D')"
      ],
      "metadata": {
        "id": "n1Edt-Ap5BNt"
      },
      "execution_count": null,
      "outputs": []
    },
    {
      "cell_type": "code",
      "source": [
        "# 44\n",
        "score = input('점수 입력(0~100): ')\n",
        "score = int(score)\n",
        "\n",
        "if score >= 90:\n",
        "  print('A')\n",
        "if score >= 80:\n",
        "  print('B')\n",
        "if score >= 70:\n",
        "  print('C')\n",
        "else:\n",
        "  print('D')"
      ],
      "metadata": {
        "id": "lgAPHSOo5VAr"
      },
      "execution_count": null,
      "outputs": []
    },
    {
      "cell_type": "code",
      "source": [
        "# 45-1\n",
        "m = input('월 입력(1~12): ')\n",
        "m = int(m)\n",
        "if 3 <= m <= 5:\n",
        "  print('봄')\n",
        "elif 6 <= m <= 8:\n",
        "  print('여름')\n",
        "elif 9 <= m <= 11:\n",
        "  print('가을')\n",
        "else:\n",
        "  print('겨울')"
      ],
      "metadata": {
        "id": "vTyt7kpN5kk3"
      },
      "execution_count": null,
      "outputs": []
    },
    {
      "cell_type": "code",
      "source": [
        "# 45-2\n",
        "m = input('월 입력(1~12): ')\n",
        "m = int(m)\n",
        "if 3 <= m <= 5:\n",
        "  print('봄')\n",
        "if 6 <= m <= 8:\n",
        "  print('여름')\n",
        "if 9 <= m <= 11:\n",
        "  print('가을')\n",
        "else:\n",
        "  print('겨울')"
      ],
      "metadata": {
        "id": "nfzui5aj6AFE"
      },
      "execution_count": null,
      "outputs": []
    },
    {
      "cell_type": "code",
      "source": [
        "# 46\n",
        "data = input('자연수 입력: ')\n",
        "data = int(data)\n",
        "\n",
        "if data % 3 == 0:\n",
        "  print('3의 배수')\n",
        "else:\n",
        "  print('3의 배수 아님')"
      ],
      "metadata": {
        "id": "Lj24_-rQ6ctS"
      },
      "execution_count": null,
      "outputs": []
    },
    {
      "cell_type": "code",
      "source": [
        "# 47\n",
        "n = input(\"정수 입력: \")\n",
        "new = int(n)\n",
        "\n",
        "if new % 6 == 0:\n",
        "  print(\"6의 배수\")\n",
        "elif new % 3 == 0:\n",
        "  print(\"3의 배수\")\n",
        "elif new % 2 == 0:\n",
        "  print(\"2의 배수\")\n",
        "else:\n",
        "  print(\"2 또는 3 배수 아님\")\n",
        "print(len(n),\"자리수\")"
      ],
      "metadata": {
        "id": "CoWanHO06g0c"
      },
      "execution_count": null,
      "outputs": []
    },
    {
      "cell_type": "code",
      "source": [
        "# 48\n",
        "food = ['짜장면','짬뽕','탕수육','우동']\n",
        "\n",
        "print(food)\n",
        "print(food[0])\n",
        "print(food[2])"
      ],
      "metadata": {
        "id": "ZumhjgFm7XkB"
      },
      "execution_count": null,
      "outputs": []
    },
    {
      "cell_type": "code",
      "source": [
        "# 49\n",
        "etc = [1004, 3.14, 'hello', True, False]\n",
        "print(etc[3],etc[4])\n",
        "print(etc[3:])\n",
        "print(etc[-1])\n",
        "print(etc[2][0])"
      ],
      "metadata": {
        "id": "XMQm3_Zb7elv"
      },
      "execution_count": null,
      "outputs": []
    },
    {
      "cell_type": "code",
      "source": [
        "# 50\n",
        "darray = [[1,2,3],[4,5,6],[7,8,9]]\n",
        "\n",
        "print(darray[1])\n",
        "print(darray[1][1])\n",
        "print(darray[0][2])"
      ],
      "metadata": {
        "id": "cHiML4E-7v5H"
      },
      "execution_count": null,
      "outputs": []
    },
    {
      "cell_type": "code",
      "source": [
        "# 51\n",
        "list_a = [1,2,3,4]\n",
        "list_b = [4,5,6,7]\n",
        "\n",
        "print(list_a+list_b)\n",
        "print(list_a*3)\n",
        "print(len(list_a))"
      ],
      "metadata": {
        "id": "7SUBq1pw74d7"
      },
      "execution_count": null,
      "outputs": []
    },
    {
      "cell_type": "code",
      "source": [
        "# 52\n",
        "list_c = [1,2,3]\n",
        "\n",
        "print('== 추가전 리스트 ==')\n",
        "print(list_c)\n",
        "\n",
        "list_c.append(4)\n",
        "list_c.append(5)\n",
        "\n",
        "print('== 추가후 리스트 ==')\n",
        "print(list_c)"
      ],
      "metadata": {
        "id": "HArAhVaE77I5"
      },
      "execution_count": null,
      "outputs": []
    },
    {
      "cell_type": "code",
      "source": [
        "# 53\n",
        "list_d = [1,2,3]\n",
        "\n",
        "print('== 추가전 리스트 ==')\n",
        "print(list_d)\n",
        "\n",
        "# 리스트명.insert(위치, 넣을 값)\n",
        "\n",
        "list_d.insert(1,100)\n",
        "\n",
        "\n",
        "print('== 추가후 리스트 ==')\n",
        "print(list_d)"
      ],
      "metadata": {
        "id": "0T4AsYmr79fg"
      },
      "execution_count": null,
      "outputs": []
    },
    {
      "cell_type": "code",
      "source": [
        "# 54\n",
        "list_e = [1,2,3,4,5]\n",
        "print(list_e)\n",
        "\n",
        "del list_e[1]\n",
        "print(list_e)"
      ],
      "metadata": {
        "id": "kji1IBPr8Av_"
      },
      "execution_count": null,
      "outputs": []
    },
    {
      "cell_type": "code",
      "source": [
        "# 55\n",
        "list_f = [6,7,8,9,10]\n",
        "print(list_f)\n",
        "\n",
        "k = list_f.pop()\n",
        "print(list_f)\n",
        "\n",
        "print(k)"
      ],
      "metadata": {
        "id": "H9Zc6h3i8DPX"
      },
      "execution_count": null,
      "outputs": []
    },
    {
      "cell_type": "code",
      "source": [
        "# 56\n",
        "list_g = [6,7,8,9,10]\n",
        "print(list_g)\n",
        "\n",
        "list_g.remove(9)\n",
        "print(list_g)"
      ],
      "metadata": {
        "id": "PF-txfh58FRC"
      },
      "execution_count": null,
      "outputs": []
    },
    {
      "cell_type": "code",
      "source": [
        "# 57\n",
        "list_h = [6,7,8,9,10]\n",
        "print(list_h)\n",
        "\n",
        "list_h.clear()\n",
        "print(list_h)"
      ],
      "metadata": {
        "id": "FG1_L4n58JlL"
      },
      "execution_count": null,
      "outputs": []
    },
    {
      "cell_type": "code",
      "source": [
        "# 58\n",
        "print(100 in [100,101,102])\n",
        "print(103 in [100,101,102])\n",
        "print(103 not in [100,101,102])"
      ],
      "metadata": {
        "id": "hzjb5Iir8OTJ"
      },
      "execution_count": null,
      "outputs": []
    },
    {
      "cell_type": "code",
      "source": [
        "# 59\n",
        "print(1)\n",
        "print(2)\n",
        "print(3)\n",
        "print(4)\n",
        "print(5)"
      ],
      "metadata": {
        "id": "VSrvHM4q8TMb"
      },
      "execution_count": null,
      "outputs": []
    },
    {
      "cell_type": "code",
      "source": [
        "# 60\n",
        "list_number = [1,2,3,4,5]\n",
        "\n",
        "for i in list_number:\n",
        "  print(i)"
      ],
      "metadata": {
        "id": "G_EP4BCN8WIj"
      },
      "execution_count": null,
      "outputs": []
    },
    {
      "cell_type": "code",
      "source": [
        "# 61\n",
        "for i in range(1,6):\n",
        "  print(i)"
      ],
      "metadata": {
        "id": "hmleYbf18YXP"
      },
      "execution_count": null,
      "outputs": []
    },
    {
      "cell_type": "code",
      "source": [
        "# 62\n",
        "a = 1\n",
        "\n",
        "while a <= 5:\n",
        "  print(a)\n",
        "  a = a + 1"
      ],
      "metadata": {
        "id": "EePxXbmJ8cTx"
      },
      "execution_count": null,
      "outputs": []
    },
    {
      "cell_type": "code",
      "source": [
        "# 63\n",
        "a = 1\n",
        "\n",
        "while a <= 100:\n",
        "  print(a)\n",
        "  a = a + 2"
      ],
      "metadata": {
        "id": "oE317SHg8eps"
      },
      "execution_count": null,
      "outputs": []
    }
  ]
}